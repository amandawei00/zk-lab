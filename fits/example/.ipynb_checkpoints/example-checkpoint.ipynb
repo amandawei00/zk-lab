{
 "cells": [
  {
   "cell_type": "code",
   "execution_count": 1,
   "metadata": {},
   "outputs": [],
   "source": [
    "import sys,os\n",
    "import numpy as np\n",
    "import pylab as py\n",
    "import pandas as pd\n",
    "from scipy.integrate import quad,fixed_quad\n",
    "%matplotlib inline\n",
    "from  matplotlib import rc\n",
    "from matplotlib.colors import LogNorm\n",
    "from matplotlib import font_manager\n",
    "import matplotlib\n",
    "from matplotlib.pyplot import gca\n",
    "from matplotlib.ticker import MultipleLocator, FormatStrFormatter,AutoMinorLocator\n",
    "from scipy.interpolate import interp1d\n",
    "import random\n",
    "sizeOfFont = 20\n",
    "rc('text',usetex=True)\n",
    "fontProperties = {'weight' : 'normal', 'size' : sizeOfFont}\n",
    "#ticks_font = matplotlib.font_manager.FontProperties(style='normal',size=sizeOfFont, weight='normal', stretch='normal')\n",
    "rc('text',usetex=True)\n",
    "rc('font',**fontProperties)\n",
    "from scipy.interpolate import interp1d\n",
    "from iminuit import Minuit\n",
    "from iminuit.cost import LeastSquares\n",
    "import warnings\n",
    "warnings.filterwarnings(\"ignore\")"
   ]
  },
  {
   "cell_type": "code",
   "execution_count": 2,
   "metadata": {},
   "outputs": [],
   "source": [
    "dfpythia = pd.read_csv(\"example.dat\")\n",
    "midpoints = np.array(dfpythia.jT)\n",
    "errors = np.array(dfpythia.sigma)\n",
    "values = np.array(dfpythia.exp)"
   ]
  },
  {
   "cell_type": "markdown",
   "metadata": {},
   "source": [
    "## Construct Theory"
   ]
  },
  {
   "cell_type": "code",
   "execution_count": 3,
   "metadata": {},
   "outputs": [],
   "source": [
    "def toy_thy(pT,Nn,pT2):\n",
    "    return Nn*pT*np.exp(-pT*pT/pT2)"
   ]
  },
  {
   "cell_type": "markdown",
   "metadata": {},
   "source": [
    "## Perform the fit"
   ]
  },
  {
   "cell_type": "code",
   "execution_count": 4,
   "metadata": {},
   "outputs": [
    {
     "data": {
      "text/html": [
       "<table>\n",
       "    <tr>\n",
       "        <th colspan=\"5\" style=\"text-align:center\" title=\"Minimizer\"> Simplex </th>\n",
       "    </tr>\n",
       "    <tr>\n",
       "        <td colspan=\"2\" style=\"text-align:left\" title=\"Minimum value of function\"> FCN = 13.81 </td>\n",
       "        <td colspan=\"3\" style=\"text-align:center\" title=\"No. of function evaluations in last call and total number\"> Nfcn = 70 </td>\n",
       "    </tr>\n",
       "    <tr>\n",
       "        <td colspan=\"2\" style=\"text-align:left\" title=\"Estimated distance to minimum and goal\"> EDM = 0.045 (Goal: 0.1) </td>\n",
       "        <td colspan=\"3\" style=\"text-align:center\" title=\"No. of gradient evaluations in last call and total number\">  </td>\n",
       "    </tr>\n",
       "    <tr>\n",
       "        <td colspan=\"2\" style=\"text-align:center;background-color:#92CCA6;color:black\"> Valid Minimum </td>\n",
       "        <td colspan=\"3\" style=\"text-align:center;background-color:#92CCA6;color:black\"> No Parameters at limit </td>\n",
       "    </tr>\n",
       "    <tr>\n",
       "        <td colspan=\"2\" style=\"text-align:center;background-color:#92CCA6;color:black\"> Below EDM threshold (goal x 10) </td>\n",
       "        <td colspan=\"3\" style=\"text-align:center;background-color:#92CCA6;color:black\"> Below call limit </td>\n",
       "    </tr>\n",
       "    <tr>\n",
       "        <td style=\"text-align:center;background-color:#FFF79A;color:black\"> NO Covariance </td>\n",
       "        <td style=\"text-align:center;background-color:#92CCA6;color:black\"> Hesse ok </td>\n",
       "        <td style=\"text-align:center;background-color:#FFF79A;color:black\" title=\"Is covariance matrix accurate?\"> APPROXIMATE </td>\n",
       "        <td style=\"text-align:center;background-color:#c15ef7;color:black\" title=\"Is covariance matrix positive definite?\"> NOT pos. def. </td>\n",
       "        <td style=\"text-align:center;background-color:#92CCA6;color:black\" title=\"Was positive definiteness enforced by Minuit?\"> Not forced </td>\n",
       "    </tr>\n",
       "</table><table>\n",
       "    <tr>\n",
       "        <td></td>\n",
       "        <th title=\"Variable name\"> Name </th>\n",
       "        <th title=\"Value of parameter\"> Value </th>\n",
       "        <th title=\"Hesse error\"> Hesse Error </th>\n",
       "        <th title=\"Minos lower error\"> Minos Error- </th>\n",
       "        <th title=\"Minos upper error\"> Minos Error+ </th>\n",
       "        <th title=\"Lower limit of the parameter\"> Limit- </th>\n",
       "        <th title=\"Upper limit of the parameter\"> Limit+ </th>\n",
       "        <th title=\"Is the parameter fixed in the fit\"> Fixed </th>\n",
       "    </tr>\n",
       "    <tr>\n",
       "        <th> 0 </th>\n",
       "        <td> Nn </td>\n",
       "        <td> 4.45 </td>\n",
       "        <td> 0.08 </td>\n",
       "        <td>  </td>\n",
       "        <td>  </td>\n",
       "        <td>  </td>\n",
       "        <td>  </td>\n",
       "        <td>  </td>\n",
       "    </tr>\n",
       "    <tr>\n",
       "        <th> 1 </th>\n",
       "        <td> pT2 </td>\n",
       "        <td> 0.434 </td>\n",
       "        <td> 0.011 </td>\n",
       "        <td>  </td>\n",
       "        <td>  </td>\n",
       "        <td>  </td>\n",
       "        <td>  </td>\n",
       "        <td>  </td>\n",
       "    </tr>\n",
       "</table>"
      ],
      "text/plain": [
       "┌─────────────────────────────────────────────────────────────────────────┐\n",
       "│                               Simplex                                   │\n",
       "├──────────────────────────────────┬──────────────────────────────────────┤\n",
       "│ FCN = 13.81                      │              Nfcn = 70               │\n",
       "│ EDM = 0.045 (Goal: 0.1)          │                                      │\n",
       "├──────────────────────────────────┼──────────────────────────────────────┤\n",
       "│          Valid Minimum           │        No Parameters at limit        │\n",
       "├──────────────────────────────────┼──────────────────────────────────────┤\n",
       "│ Below EDM threshold (goal x 10)  │           Below call limit           │\n",
       "├───────────────┬──────────────────┼───────────┬─────────────┬────────────┤\n",
       "│ NO Covariance │     Hesse ok     │APPROXIMATE│NOT pos. def.│ Not forced │\n",
       "└───────────────┴──────────────────┴───────────┴─────────────┴────────────┘\n",
       "┌───┬──────┬───────────┬───────────┬────────────┬────────────┬─────────┬─────────┬───────┐\n",
       "│   │ Name │   Value   │ Hesse Err │ Minos Err- │ Minos Err+ │ Limit-  │ Limit+  │ Fixed │\n",
       "├───┼──────┼───────────┼───────────┼────────────┼────────────┼─────────┼─────────┼───────┤\n",
       "│ 0 │ Nn   │   4.45    │   0.08    │            │            │         │         │       │\n",
       "│ 1 │ pT2  │   0.434   │   0.011   │            │            │         │         │       │\n",
       "└───┴──────┴───────────┴───────────┴────────────┴────────────┴─────────┴─────────┴───────┘"
      ]
     },
     "execution_count": 4,
     "metadata": {},
     "output_type": "execute_result"
    }
   ],
   "source": [
    "def chi_squared(Nn,pT2):\n",
    "    res = 0.\n",
    "    for i in range(len(midpoints)):\n",
    "        jT = midpoints[i]\n",
    "        if jT <= 2.:\n",
    "            theory = toy_thy(jT,Nn,pT2)\n",
    "            pythia = values[i]\n",
    "            errval = errors[i]\n",
    "            res += (theory-pythia)**2./errval**2.0\n",
    "    return res\n",
    "chi_squared.errordef = Minuit.LEAST_SQUARES\n",
    "m = Minuit(chi_squared,Nn = 0.,pT2= 0.)\n",
    "m.simplex()"
   ]
  },
  {
   "cell_type": "code",
   "execution_count": null,
   "metadata": {},
   "outputs": [],
   "source": [
    "fig = py.figure(figsize=(8,5))\n",
    "ax = py.subplot(111)\n",
    "Nnc = 4.44\n",
    "p2c = 0.44\n",
    "jT = np.linspace(midpoints[0],midpoints[-1],100)\n",
    "theory = [toy_thy(jjT,Nnc,p2c) for jjT in jT]\n",
    "ax.set_xlim(0,2)\n",
    "ax.set_ylim(0,1.75)\n",
    "ax.errorbar(midpoints,values,errors,fmt = \"r.\", label = r\"\\rm Pythia\")\n",
    "ax.plot(jT,theory, label = r\"\\rm Theory\")\n",
    "ax.axhline(y = 0, color = \"gray\")\n",
    "ax.text(0.75,0.9, r'\\rm $e^+ e^-\\rightarrow \\pi^++$Jet',fontsize = 15,horizontalalignment='center',verticalalignment='center', transform=ax.transAxes)\n",
    "ax.text(0.75,0.8, r'\\rm $N_{event} = 100,000$',fontsize = 15,horizontalalignment='center',verticalalignment='center', transform=ax.transAxes)\n",
    "ax.text(0.75,0.7, r'\\rm $0.2<z_\\pi \\leq 0.5$',fontsize = 15,horizontalalignment='center',verticalalignment='center', transform=ax.transAxes)\n",
    "ax.text(0.75,0.6, r'\\rm $R = 0.6$',fontsize = 15,horizontalalignment='center',verticalalignment='center', transform=ax.transAxes)\n",
    "ax.set_ylabel(r'\\rm $\\sigma^{-1} d\\sigma/d P_{\\pi \\perp}$ (GeV$^{-1}$)',fontsize=sizeOfFont)\n",
    "ax.set_xlabel(r'\\rm $P_{\\pi \\perp}$ (GeV)',fontsize=sizeOfFont)\n",
    "ax.legend(frameon = False,fontsize = 20,bbox_to_anchor=(1.4, 0.5))\n",
    "py.savefig('example.pdf',bbox_inches=\"tight\")"
   ]
  },
  {
   "cell_type": "code",
   "execution_count": null,
   "metadata": {},
   "outputs": [],
   "source": []
  }
 ],
 "metadata": {
  "kernelspec": {
   "display_name": "Python 3",
   "language": "python",
   "name": "python3"
  },
  "language_info": {
   "codemirror_mode": {
    "name": "ipython",
    "version": 3
   },
   "file_extension": ".py",
   "mimetype": "text/x-python",
   "name": "python",
   "nbconvert_exporter": "python",
   "pygments_lexer": "ipython3",
   "version": "3.7.9"
  }
 },
 "nbformat": 4,
 "nbformat_minor": 2
}
