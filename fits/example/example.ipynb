{
 "cells": [
  {
   "cell_type": "code",
   "execution_count": 1,
   "metadata": {},
   "outputs": [],
   "source": [
    "import sys,os\n",
    "import numpy as np\n",
    "import pylab as py\n",
    "import pandas as pd\n",
    "from scipy.integrate import quad,fixed_quad\n",
    "%matplotlib inline\n",
    "from  matplotlib import rc\n",
    "from matplotlib.colors import LogNorm\n",
    "from matplotlib import font_manager\n",
    "import matplotlib\n",
    "from matplotlib.pyplot import gca\n",
    "from matplotlib.ticker import MultipleLocator, FormatStrFormatter,AutoMinorLocator\n",
    "from scipy.interpolate import interp1d\n",
    "import random\n",
    "sizeOfFont = 20\n",
    "rc('text',usetex=True)\n",
    "fontProperties = {'weight' : 'normal', 'size' : sizeOfFont}\n",
    "#ticks_font = matplotlib.font_manager.FontProperties(style='normal',size=sizeOfFont, weight='normal', stretch='normal')\n",
    "rc('text',usetex=True)\n",
    "rc('font',**fontProperties)\n",
    "from scipy.interpolate import interp1d\n",
    "from iminuit import Minuit\n",
    "from iminuit.cost import LeastSquares\n",
    "import warnings\n",
    "warnings.filterwarnings(\"ignore\")"
   ]
  },
  {
   "cell_type": "code",
   "execution_count": null,
   "metadata": {},
   "outputs": [],
   "source": [
    "dfpythia = pd.read_csv(\"example.dat\")\n",
    "midpoints = np.array(dfpythia.jT)\n",
    "errors = np.array(dfpythia.sigma)\n",
    "values = np.array(dfpythia.exp)"
   ]
  },
  {
   "cell_type": "markdown",
   "metadata": {},
   "source": [
    "## Construct Theory"
   ]
  },
  {
   "cell_type": "code",
   "execution_count": null,
   "metadata": {},
   "outputs": [],
   "source": [
    "def toy_thy(pT,Nn,pT2):\n",
    "    return Nn*pT*np.exp(-pT*pT/pT2)"
   ]
  },
  {
   "cell_type": "markdown",
   "metadata": {},
   "source": [
    "## Perform the fit"
   ]
  },
  {
   "cell_type": "code",
   "execution_count": null,
   "metadata": {},
   "outputs": [],
   "source": [
    "def chi_squared(Nn,pT2):\n",
    "    res = 0.\n",
    "    for i in range(len(midpoints)):\n",
    "        jT = midpoints[i]\n",
    "        if jT <= 2.:\n",
    "            theory = toy_thy(jT,Nn,pT2)\n",
    "            pythia = values[i]\n",
    "            errval = errors[i]\n",
    "            res += (theory-pythia)**2./errval**2.0\n",
    "    return res\n",
    "chi_squared.errordef = Minuit.LEAST_SQUARES\n",
    "m = Minuit(chi_squared,Nn = 0.,pT2= 0.)\n",
    "m.simplex()"
   ]
  },
  {
   "cell_type": "code",
   "execution_count": null,
   "metadata": {},
   "outputs": [],
   "source": [
    "fig = py.figure(figsize=(8,5))\n",
    "ax = py.subplot(111)\n",
    "Nnc = 4.44\n",
    "p2c = 0.44\n",
    "jT = np.linspace(midpoints[0],midpoints[-1],100)\n",
    "theory = [toy_thy(jjT,Nnc,p2c) for jjT in jT]\n",
    "ax.set_xlim(0,2)\n",
    "ax.set_ylim(0,1.75)\n",
    "ax.errorbar(midpoints,values,errors,fmt = \"r.\", label = r\"\\rm Pythia\")\n",
    "ax.plot(jT,theory, label = r\"\\rm Theory\")\n",
    "ax.axhline(y = 0, color = \"gray\")\n",
    "ax.text(0.75,0.9, r'\\rm $e^+ e^-\\rightarrow \\pi^++$Jet',fontsize = 15,horizontalalignment='center',verticalalignment='center', transform=ax.transAxes)\n",
    "ax.text(0.75,0.8, r'\\rm $N_{event} = 100,000$',fontsize = 15,horizontalalignment='center',verticalalignment='center', transform=ax.transAxes)\n",
    "ax.text(0.75,0.7, r'\\rm $0.2<z_\\pi \\leq 0.5$',fontsize = 15,horizontalalignment='center',verticalalignment='center', transform=ax.transAxes)\n",
    "ax.text(0.75,0.6, r'\\rm $R = 0.6$',fontsize = 15,horizontalalignment='center',verticalalignment='center', transform=ax.transAxes)\n",
    "ax.set_ylabel(r'\\rm $\\sigma^{-1} d\\sigma/d P_{\\pi \\perp}$ (GeV$^{-1}$)',fontsize=sizeOfFont)\n",
    "ax.set_xlabel(r'\\rm $P_{\\pi \\perp}$ (GeV)',fontsize=sizeOfFont)\n",
    "ax.legend(frameon = False,fontsize = 20,bbox_to_anchor=(1.4, 0.5))\n",
    "py.savefig('example.pdf',bbox_inches=\"tight\")"
   ]
  },
  {
   "cell_type": "code",
   "execution_count": null,
   "metadata": {},
   "outputs": [],
   "source": []
  }
 ],
 "metadata": {
  "kernelspec": {
   "display_name": "Python 3",
   "language": "python",
   "name": "python3"
  },
  "language_info": {
   "codemirror_mode": {
    "name": "ipython",
    "version": 3
   },
   "file_extension": ".py",
   "mimetype": "text/x-python",
   "name": "python",
   "nbconvert_exporter": "python",
   "pygments_lexer": "ipython3",
   "version": "3.7.9"
  }
 },
 "nbformat": 4,
 "nbformat_minor": 2
}
